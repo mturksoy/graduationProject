{
 "cells": [
  {
   "cell_type": "markdown",
   "id": "a7ccc84e-3819-4a24-98fa-7e86706249c0",
   "metadata": {},
   "source": [
    "The train data has no labels. In this notebook i am extracting train labels."
   ]
  },
  {
   "cell_type": "code",
   "execution_count": 1,
   "id": "b6596022-32c5-480b-aa22-defad7e3c82f",
   "metadata": {},
   "outputs": [],
   "source": [
    "import pandas as pd"
   ]
  },
  {
   "cell_type": "code",
   "execution_count": 2,
   "id": "e9d4ead2-e38a-41b1-ad19-2f8299184886",
   "metadata": {},
   "outputs": [],
   "source": [
    "df_train_tte = pd.read_csv('train_tte.csv')"
   ]
  },
  {
   "cell_type": "code",
   "execution_count": 3,
   "id": "d073a4dc-8973-405a-a341-ad86e835ec3d",
   "metadata": {},
   "outputs": [],
   "source": [
    "df_train_readouts = pd.read_csv('train_operational_readouts.csv')"
   ]
  },
  {
   "cell_type": "code",
   "execution_count": 12,
   "id": "6fb4e4f0-c128-499d-8de6-919ec09db316",
   "metadata": {},
   "outputs": [],
   "source": [
    "def process_datasets(train_tte, train_operational_readouts):\n",
    "    train_tte['class_labels'] = None\n",
    "\n",
    "    for index, row in train_tte.iterrows():\n",
    "        vehicle_id = row['vehicle_id']\n",
    "        length_of_study_time_step = row['length_of_study_time_step']\n",
    "        in_study_repair = row['in_study_repair']\n",
    "\n",
    "        vehicle_rows = train_operational_readouts[train_operational_readouts['vehicle_id'] == vehicle_id]\n",
    "\n",
    "        if in_study_repair == 0:\n",
    "            threshold_timestep = length_of_study_time_step - 48\n",
    "\n",
    "            vehicle_rows_to_keep = vehicle_rows[vehicle_rows['time_step'] <= threshold_timestep]\n",
    "\n",
    "            train_operational_readouts = train_operational_readouts[~((train_operational_readouts['vehicle_id'] == vehicle_id) & (train_operational_readouts['time_step'] > threshold_timestep))]\n",
    "\n",
    "            train_tte.loc[index, 'class_labels'] = 0  \n",
    "        else:  # in_study_repair == 1\n",
    "            max_timestep = vehicle_rows['time_step'].max()\n",
    "            diff = length_of_study_time_step - max_timestep\n",
    "\n",
    "            if diff > 48:\n",
    "                train_tte.loc[index, 'class_labels'] = 0\n",
    "            elif 24 < diff <= 48:\n",
    "                train_tte.loc[index, 'class_labels'] = 1\n",
    "            elif 12 < diff <= 24:\n",
    "                train_tte.loc[index, 'class_labels'] = 2\n",
    "            elif 6 < diff <= 12:\n",
    "                train_tte.loc[index, 'class_labels'] = 3\n",
    "            elif 0 < diff <= 6:\n",
    "                train_tte.loc[index, 'class_labels'] = 4\n",
    "\n",
    "    return train_tte, train_operational_readouts\n"
   ]
  },
  {
   "cell_type": "code",
   "execution_count": 13,
   "id": "e4dffdb6-de8e-4094-829f-629d9fc17c84",
   "metadata": {},
   "outputs": [],
   "source": [
    "processed_tte, processed_operational_readouts = process_datasets(df_train_tte, df_train_readouts)"
   ]
  },
  {
   "cell_type": "code",
   "execution_count": 14,
   "id": "172b04f8-a7bc-4c79-84ce-31c9cb367a45",
   "metadata": {},
   "outputs": [
    {
     "name": "stdout",
     "output_type": "stream",
     "text": [
      "Başarılı\n"
     ]
    }
   ],
   "source": [
    "processed_tte.to_csv('processed_train_labels.csv', index=False)\n",
    "print(\"Başarılı\")"
   ]
  },
  {
   "cell_type": "code",
   "execution_count": 15,
   "id": "aa01a57d-7205-4b97-9422-9d21eab8422f",
   "metadata": {},
   "outputs": [
    {
     "name": "stdout",
     "output_type": "stream",
     "text": [
      "Başarılı\n"
     ]
    }
   ],
   "source": [
    "processed_operational_readouts4.to_csv('processed_train_operational_readouts.csv', index=False)\n",
    "print(\"Başarılı\")"
   ]
  },
  {
   "cell_type": "code",
   "execution_count": null,
   "id": "a84ba1c0-af23-4b17-9f20-a4ac6cc588c4",
   "metadata": {},
   "outputs": [],
   "source": []
  }
 ],
 "metadata": {
  "kernelspec": {
   "display_name": "Python 3 (ipykernel)",
   "language": "python",
   "name": "python3"
  },
  "language_info": {
   "codemirror_mode": {
    "name": "ipython",
    "version": 3
   },
   "file_extension": ".py",
   "mimetype": "text/x-python",
   "name": "python",
   "nbconvert_exporter": "python",
   "pygments_lexer": "ipython3",
   "version": "3.10.16"
  }
 },
 "nbformat": 4,
 "nbformat_minor": 5
}
