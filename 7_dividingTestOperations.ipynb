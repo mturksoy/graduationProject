{
 "cells": [
  {
   "cell_type": "markdown",
   "id": "a695fc86-9497-4875-93f0-913afd610a18",
   "metadata": {},
   "source": [
    "In this notebook, the test set is split into separate parts for interface testing."
   ]
  },
  {
   "cell_type": "code",
   "execution_count": 1,
   "id": "3f570bb7-0ce1-44a0-9878-cfd1d185f271",
   "metadata": {},
   "outputs": [],
   "source": [
    "import pandas as pd\n",
    "import numpy as np\n",
    "import os"
   ]
  },
  {
   "cell_type": "code",
   "execution_count": 2,
   "id": "148dd19d-64e6-44f3-b37d-087097c843ac",
   "metadata": {},
   "outputs": [],
   "source": [
    "# Load the dataset\n",
    "data = pd.read_csv('test_operational_readouts.csv')"
   ]
  },
  {
   "cell_type": "code",
   "execution_count": 4,
   "id": "9498f038-8d62-4ba6-b57e-291e25dc987f",
   "metadata": {},
   "outputs": [],
   "source": [
    "output_dir = '/Users/mturk/Python_Dev/Bitirme Projesi/2024-34-2/data/Test_operational_readouts_grouped\"'\n",
    "os.makedirs(output_dir, exist_ok=True)"
   ]
  },
  {
   "cell_type": "code",
   "execution_count": 5,
   "id": "3c6567a8-0f68-41f2-8f5e-1d9d555233c6",
   "metadata": {},
   "outputs": [
    {
     "name": "stdout",
     "output_type": "stream",
     "text": [
      "Processed data saved in /Test_operational_readouts_grouped\n"
     ]
    }
   ],
   "source": [
    "# Process the data until it is empty\n",
    "iteration = 1\n",
    "while not data.empty:\n",
    "    num_vehicles = np.random.randint(1, 6)\n",
    "    \n",
    "    # Select random vehicle IDs from the remaining data\n",
    "    selected_vehicle_ids = data['vehicle_id'].drop_duplicates().sample(n=min(num_vehicles, len(data['vehicle_id'].drop_duplicates())), random_state=iteration)\n",
    "    \n",
    "    # Filter data for the selected vehicle IDs\n",
    "    selected_data = data[data['vehicle_id'].isin(selected_vehicle_ids)]\n",
    "    \n",
    "    # Sort by vehicle_id and time_step\n",
    "    selected_data = selected_data.sort_values(by=['vehicle_id', 'time_step'])\n",
    "    \n",
    "    # Create the output filename\n",
    "    selected_ids_str = \"_\".join(map(str, selected_vehicle_ids.sort_values()))\n",
    "    output_filename = f\"test_operational_readouts_vehicle_{selected_ids_str}.csv\"\n",
    "    \n",
    "    # Save the selected data to CSV\n",
    "    selected_data.to_csv(os.path.join(output_dir, output_filename), index=False)\n",
    "    \n",
    "    # Remove the selected vehicle IDs from the main dataset\n",
    "    data = data[~data['vehicle_id'].isin(selected_vehicle_ids)]\n",
    "    \n",
    "    iteration += 1\n",
    "\n",
    "print(f\"Processed data saved in {output_dir}\")"
   ]
  },
  {
   "cell_type": "code",
   "execution_count": null,
   "id": "3e2e301b-f559-46c4-80d4-14f8b5eb2097",
   "metadata": {},
   "outputs": [],
   "source": []
  }
 ],
 "metadata": {
  "kernelspec": {
   "display_name": "Python 3 (ipykernel)",
   "language": "python",
   "name": "python3"
  },
  "language_info": {
   "codemirror_mode": {
    "name": "ipython",
    "version": 3
   },
   "file_extension": ".py",
   "mimetype": "text/x-python",
   "name": "python",
   "nbconvert_exporter": "python",
   "pygments_lexer": "ipython3",
   "version": "3.10.16"
  }
 },
 "nbformat": 4,
 "nbformat_minor": 5
}
